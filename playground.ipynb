{
 "cells": [
  {
   "cell_type": "code",
   "execution_count": 46,
   "metadata": {},
   "outputs": [],
   "source": [
    "import pandas as pd\n",
    "import numpy as np"
   ]
  },
  {
   "cell_type": "code",
   "execution_count": 49,
   "metadata": {},
   "outputs": [
    {
     "name": "stderr",
     "output_type": "stream",
     "text": [
      "/tmp/ipykernel_3727277/2423110366.py:1: DtypeWarning: Columns (14) have mixed types. Specify dtype option on import or set low_memory=False.\n",
      "  df=pd.read_csv('/home/sascha/kubernetes-intrusion-detection-main/KubeFocus/datasets/all_datasets_rf_ts.csv')\n"
     ]
    }
   ],
   "source": [
    "df=pd.read_csv('/home/sascha/kubernetes-intrusion-detection-main/KubeFocus/datasets/all_datasets_rf_ts.csv')"
   ]
  },
  {
   "cell_type": "code",
   "execution_count": 54,
   "metadata": {},
   "outputs": [
    {
     "data": {
      "text/plain": [
       "Index(['open', 'write', 'close', 'connect', 'unlink', 'accept', 'chdir',\n",
       "       'execve', 'read', 'kill', 'clone', 'select', 'brk'],\n",
       "      dtype='object')"
      ]
     },
     "execution_count": 54,
     "metadata": {},
     "output_type": "execute_result"
    }
   ],
   "source": [
    "df.iloc[:,1:14].columns #system_calls"
   ]
  },
  {
   "cell_type": "code",
   "execution_count": 58,
   "metadata": {},
   "outputs": [
    {
     "data": {
      "text/plain": [
       "Index(['Pod_Logs'], dtype='object')"
      ]
     },
     "execution_count": 58,
     "metadata": {},
     "output_type": "execute_result"
    }
   ],
   "source": [
    "df.iloc[:,14:15].columns #logs"
   ]
  },
  {
   "cell_type": "code",
   "execution_count": 60,
   "metadata": {},
   "outputs": [
    {
     "data": {
      "text/plain": [
       "Index(['NetInCount', 'NetOutCount', 'NetInSize', 'NetOutSize'], dtype='object')"
      ]
     },
     "execution_count": 60,
     "metadata": {},
     "output_type": "execute_result"
    }
   ],
   "source": [
    "df.iloc[:,15:19].columns #net"
   ]
  },
  {
   "cell_type": "code",
   "execution_count": 76,
   "metadata": {},
   "outputs": [
    {
     "data": {
      "text/plain": [
       "Index(['cluster:node_cpu:sum_rate5m{}',\n",
       "       'apiserver_flowcontrol_request_execution_seconds_count{endpoint=\"\"https\"\",flow_schema=\"\"catch-all\"\",instance=\"\"192.168.122.216:6443\"\",job=\"\"apiserver\"\",namespace=\"\"default\"\",priority_level=\"\"catch-all\"\",service=\"\"kubernetes\"\",type=\"\"regular\"\"}',\n",
       "       'apiserver_flowcontrol_request_execution_seconds_count{endpoint=\"\"https\"\",flow_schema=\"\"catch-all\"\",instance=\"\"192.168.122.216:6443\"\",job=\"\"apiserver\"\",namespace=\"\"default\"\",priority_level=\"\"catch-all\"\",service=\"\"kubernetes\"\",type=\"\"watch\"\"}',\n",
       "       'apiserver_flowcontrol_request_execution_seconds_count{endpoint=\"\"https\"\",flow_schema=\"\"workload-leader-election\"\",instance=\"\"192.168.122.216:6443\"\",job=\"\"apiserver\"\",namespace=\"\"default\"\",priority_level=\"\"leader-election\"\",service=\"\"kubernetes\"\",type=\"\"regular\"\"}',\n",
       "       'apiserver_flowcontrol_watch_count_samples_sum{endpoint=\"\"https\"\",flow_schema=\"\"endpoint-controller\"\",instance=\"\"192.168.122.216:6443\"\",job=\"\"apiserver\"\",namespace=\"\"default\"\",priority_level=\"\"workload-high\"\",service=\"\"kubernetes\"\"}',\n",
       "       'apiserver_watch_events_total{endpoint=\"\"https\"\",group=\"\"admissionregistration.k8s.io\"\",instance=\"\"192.168.122.216:6443\"\",job=\"\"apiserver\"\",kind=\"\"ValidatingWebhookConfiguration\"\",namespace=\"\"default\"\",service=\"\"kubernetes\"\",version=\"\"v1\"\"}',\n",
       "       'apiserver_watch_events_total{endpoint=\"\"https\"\",group=\"\"apps\"\",instance=\"\"192.168.122.216:6443\"\",job=\"\"apiserver\"\",kind=\"\"DaemonSet\"\",namespace=\"\"default\"\",service=\"\"kubernetes\"\",version=\"\"v1\"\"}',\n",
       "       'apiserver_watch_events_total{endpoint=\"\"https\"\",group=\"\"apps\"\",instance=\"\"192.168.122.216:6443\"\",job=\"\"apiserver\"\",kind=\"\"Deployment\"\",namespace=\"\"default\"\",service=\"\"kubernetes\"\",version=\"\"v1\"\"}',\n",
       "       'apiserver_watch_events_total{endpoint=\"\"https\"\",group=\"\"configuration.konghq.com\"\",instance=\"\"192.168.122.216:6443\"\",job=\"\"apiserver\"\",kind=\"\"KongClusterPlugin\"\",namespace=\"\"default\"\",service=\"\"kubernetes\"\",version=\"\"v1\"\"}',\n",
       "       'apiserver_watch_events_total{endpoint=\"\"https\"\",group=\"\"crd.projectcalico.org\"\",instance=\"\"192.168.122.216:6443\"\",job=\"\"apiserver\"\",kind=\"\"IPReservation\"\",namespace=\"\"default\"\",service=\"\"kubernetes\"\",version=\"\"v1\"\"}',\n",
       "       ...\n",
       "       'etcd_request_duration_seconds_bucket{endpoint=\"\"https\"\",instance=\"\"192.168.122.216:6443\"\",job=\"\"apiserver\"\",le=\"\"45\"\",namespace=\"\"default\"\",operation=\"\"list\"\",service=\"\"kubernetes\"\",type=\"\"kongvaults.configuration.konghq.com\"\"}',\n",
       "       'etcd_request_duration_seconds_bucket{endpoint=\"\"https\"\",instance=\"\"192.168.122.216:6443\"\",job=\"\"apiserver\"\",le=\"\"45\"\",namespace=\"\"default\"\",operation=\"\"list\"\",service=\"\"kubernetes\"\",type=\"\"thanosrulers.monitoring.coreos.com\"\"}',\n",
       "       'etcd_request_duration_seconds_bucket{endpoint=\"\"https\"\",instance=\"\"192.168.122.216:6443\"\",job=\"\"apiserver\"\",le=\"\"5\"\",namespace=\"\"default\"\",operation=\"\"list\"\",service=\"\"kubernetes\"\",type=\"\"ipreservations.crd.projectcalico.org\"\"}',\n",
       "       'etcd_request_duration_seconds_bucket{endpoint=\"\"https\"\",instance=\"\"192.168.122.216:6443\"\",job=\"\"apiserver\"\",le=\"\"6\"\",namespace=\"\"default\"\",operation=\"\"list\"\",service=\"\"kubernetes\"\",type=\"\"ipreservations.crd.projectcalico.org\"\"}',\n",
       "       'etcd_request_duration_seconds_bucket{endpoint=\"\"https\"\",instance=\"\"192.168.122.216:6443\"\",job=\"\"apiserver\"\",le=\"\"60\"\",namespace=\"\"default\"\",operation=\"\"list\"\",service=\"\"kubernetes\"\",type=\"\"bgpadvertisements.metallb.io\"\"}',\n",
       "       'etcd_request_duration_seconds_bucket{endpoint=\"\"https\"\",instance=\"\"192.168.122.216:6443\"\",job=\"\"apiserver\"\",le=\"\"60\"\",namespace=\"\"default\"\",operation=\"\"list\"\",service=\"\"kubernetes\"\",type=\"\"ipreservations.crd.projectcalico.org\"\"}',\n",
       "       'etcd_request_duration_seconds_bucket{endpoint=\"\"https\"\",instance=\"\"192.168.122.216:6443\"\",job=\"\"apiserver\"\",le=\"\"60\"\",namespace=\"\"default\"\",operation=\"\"listWithCount\"\",service=\"\"kubernetes\"\",type=\"\"/registry/metallb.io/communities/\"\"}',\n",
       "       'etcd_request_duration_seconds_bucket{endpoint=\"\"https\"\",instance=\"\"192.168.122.216:6443\"\",job=\"\"apiserver\"\",le=\"\"8\"\",namespace=\"\"default\"\",operation=\"\"list\"\",service=\"\"kubernetes\"\",type=\"\"bfdprofiles.metallb.io\"\"}',\n",
       "       'etcd_request_duration_seconds_bucket{endpoint=\"\"https\"\",instance=\"\"192.168.122.216:6443\"\",job=\"\"apiserver\"\",le=\"\"8\"\",namespace=\"\"default\"\",operation=\"\"list\"\",service=\"\"kubernetes\"\",type=\"\"ipreservations.crd.projectcalico.org\"\"}',\n",
       "       'etcd_request_duration_seconds_bucket{endpoint=\"\"https\"\",instance=\"\"192.168.122.216:6443\"\",job=\"\"apiserver\"\",le=\"\"8\"\",namespace=\"\"default\"\",operation=\"\"listWithCount\"\",service=\"\"kubernetes\"\",type=\"\"/registry/configuration.konghq.com/udpingresses/\"\"}'],\n",
       "      dtype='object', length=365)"
      ]
     },
     "execution_count": 76,
     "metadata": {},
     "output_type": "execute_result"
    }
   ],
   "source": [
    "df.iloc[:,19:384].columns #metrics"
   ]
  },
  {
   "cell_type": "code",
   "execution_count": 41,
   "metadata": {},
   "outputs": [
    {
     "data": {
      "text/plain": [
       "Index(['node_k8s-master-1', 'node_k8s-worker-1', 'node_k8s-worker-2'], dtype='object')"
      ]
     },
     "execution_count": 41,
     "metadata": {},
     "output_type": "execute_result"
    }
   ],
   "source": [
    "df.iloc[:,190:193].columns #nodes"
   ]
  },
  {
   "cell_type": "code",
   "execution_count": 82,
   "metadata": {},
   "outputs": [
    {
     "data": {
      "text/plain": [
       "Index(['attack'], dtype='object')"
      ]
     },
     "execution_count": 82,
     "metadata": {},
     "output_type": "execute_result"
    }
   ],
   "source": [
    "df.iloc[:,-1:].columns #labels"
   ]
  },
  {
   "cell_type": "code",
   "execution_count": 77,
   "metadata": {},
   "outputs": [
    {
     "data": {
      "text/plain": [
       "Index(['timestamp', 'open', 'write', 'close', 'connect', 'unlink', 'accept',\n",
       "       'chdir', 'execve', 'read',\n",
       "       ...\n",
       "       'node_network_carrier_up_changes_total{container=\"\"node-exporter\"\",device=\"\"cali83cb5bd6876\"\",endpoint=\"\"http-metrics\"\",instance=\"\"192.168.122.233:9100\"\",job=\"\"node-exporter\"\",namespace=\"\"prom\"\",pod=\"\"kube-prometheus-stack-prometheus-node-exporter-hbzvc\"\",service=\"\"kube-prometheus-stack-prometheus-node-exporter\"\"}',\n",
       "       'node_network_carrier_up_changes_total{container=\"\"node-exporter\"\",device=\"\"cali9f390a4dce6\"\",endpoint=\"\"http-metrics\"\",instance=\"\"192.168.122.216:9100\"\",job=\"\"node-exporter\"\",namespace=\"\"prom\"\",pod=\"\"kube-prometheus-stack-prometheus-node-exporter-qnv44\"\",service=\"\"kube-prometheus-stack-prometheus-node-exporter\"\"}',\n",
       "       'node_network_carrier_up_changes_total{container=\"\"node-exporter\"\",device=\"\"lo\"\",endpoint=\"\"http-metrics\"\",instance=\"\"192.168.122.216:9100\"\",job=\"\"node-exporter\"\",namespace=\"\"prom\"\",pod=\"\"kube-prometheus-stack-prometheus-node-exporter-qnv44\"\",service=\"\"kube-prometheus-stack-prometheus-node-exporter\"\"}',\n",
       "       'node_network_carrier_up_changes_total{container=\"\"node-exporter\"\",device=\"\"lo\"\",endpoint=\"\"http-metrics\"\",instance=\"\"192.168.122.233:9100\"\",job=\"\"node-exporter\"\",namespace=\"\"prom\"\",pod=\"\"kube-prometheus-stack-prometheus-node-exporter-hbzvc\"\",service=\"\"kube-prometheus-stack-prometheus-node-exporter\"\"}',\n",
       "       'apiserver_request_total{code=\"\"200\"\",component=\"\"apiserver\"\",endpoint=\"\"https\"\",group=\"\"configuration.konghq.com\"\",instance=\"\"192.168.122.216:6443\"\",job=\"\"apiserver\"\",namespace=\"\"default\"\",resource=\"\"kongingresses\"\",scope=\"\"cluster\"\",service=\"\"kubernetes\"\",verb=\"\"LIST\"\",version=\"\"v1\"\"}',\n",
       "       'apiserver_request_total{code=\"\"200\"\",component=\"\"apiserver\"\",endpoint=\"\"https\"\",group=\"\"policy\"\",instance=\"\"192.168.122.216:6443\"\",job=\"\"apiserver\"\",namespace=\"\"default\"\",resource=\"\"poddisruptionbudgets\"\",scope=\"\"cluster\"\",service=\"\"kubernetes\"\",verb=\"\"LIST\"\",version=\"\"v1\"\"}',\n",
       "       'apiserver_storage_data_key_generation_duration_seconds_bucket{endpoint=\"\"http-metrics\"\",instance=\"\"192.168.122.216:10259\"\",job=\"\"kube-scheduler\"\",le=\"\"0.00256\"\",namespace=\"\"kube-system\"\",pod=\"\"kube-scheduler-k8s-master-1\"\",service=\"\"kube-prometheus-stack-kube-scheduler\"\"}',\n",
       "       'workqueue_work_duration_seconds_count{endpoint=\"\"http-metrics\"\",instance=\"\"192.168.122.216:10257\"\",job=\"\"kube-controller-manager\"\",name=\"\"service\"\",namespace=\"\"kube-system\"\",pod=\"\"kube-controller-manager-k8s-master-1\"\",service=\"\"kube-prometheus-stack-kube-controller-manager\"\"}',\n",
       "       'node_scrape_collector_success{collector=\"\"bcache\"\",container=\"\"node-exporter\"\",endpoint=\"\"http-metrics\"\",instance=\"\"192.168.122.216:9100\"\",job=\"\"node-exporter\"\",namespace=\"\"prom\"\",pod=\"\"kube-prometheus-stack-prometheus-node-exporter-qnv44\"\",service=\"\"kube-prometheus-stack-prometheus-node-exporter\"\"}',\n",
       "       'node_scrape_collector_success{collector=\"\"bcache\"\",container=\"\"node-exporter\"\",endpoint=\"\"http-metrics\"\",instance=\"\"192.168.122.233:9100\"\",job=\"\"node-exporter\"\",namespace=\"\"prom\"\",pod=\"\"kube-prometheus-stack-prometheus-node-exporter-hbzvc\"\",service=\"\"kube-prometheus-stack-prometheus-node-exporter\"\"}'],\n",
       "      dtype='object', length=185)"
      ]
     },
     "execution_count": 77,
     "metadata": {},
     "output_type": "execute_result"
    }
   ],
   "source": [
    "df.iloc[:, np.r_[:25, 30:190,:-1]].columns"
   ]
  },
  {
   "cell_type": "code",
   "execution_count": 1,
   "metadata": {},
   "outputs": [
    {
     "data": {
      "image/png": "[encoded data removed]",
      "text/plain": [
       "<Figure size 1500x300 with 5 Axes>"
      ]
     },
     "metadata": {},
     "output_type": "display_data"
    }
   ],
   "source": [
    "import torch\n",
    "import matplotlib.pyplot as plt\n",
    "import random\n",
    "\n",
    "# Load dataset\n",
    "dataset_path = '/home/sascha/kubernetes-intrusion-detection-main/KubeFocus/exp1/image_dataset.pt'  # ← change to your path\n",
    "all_data = torch.load(dataset_path)\n",
    "\n",
    "# Pick 5 random samples\n",
    "samples = random.sample(all_data, 5)\n",
    "\n",
    "# Plot them\n",
    "plt.figure(figsize=(15, 3))\n",
    "for i, item in enumerate(samples):\n",
    "    img = item['image'].numpy()\n",
    "    label = item['label']\n",
    "    plt.subplot(1, 5, i + 1)\n",
    "    plt.imshow(img)\n",
    "    plt.title(f\"Label: {label}\")\n",
    "    plt.axis('off')\n",
    "plt.suptitle(\"5 Random Samples from image_dataset.pt\")\n",
    "plt.tight_layout()\n",
    "plt.show()\n"
   ]
  }
 ],
 "metadata": {
  "kernelspec": {
   "display_name": "llm",
   "language": "python",
   "name": "python3"
  },
  "language_info": {
   "codemirror_mode": {
    "name": "ipython",
    "version": 3
   },
   "file_extension": ".py",
   "mimetype": "text/x-python",
   "name": "python",
   "nbconvert_exporter": "python",
   "pygments_lexer": "ipython3",
   "version": "3.13.2"
  }
 },
 "nbformat": 4,
 "nbformat_minor": 2
}
